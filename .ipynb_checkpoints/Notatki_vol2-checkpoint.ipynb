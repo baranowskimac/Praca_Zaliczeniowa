{
 "cells": [
  {
   "cell_type": "code",
   "execution_count": 1,
   "id": "c32c1554-a4a1-484b-ae5a-3406856a6e82",
   "metadata": {},
   "outputs": [],
   "source": [
    "from bs4 import BeautifulSoup\n",
    "from dataclasses import dataclass, asdict\n",
    "from typing import List\n",
    "import yaml\n",
    "import requests\n",
    "import json\n",
    "import pandas as pd"
   ]
  },
  {
   "cell_type": "code",
   "execution_count": 2,
   "id": "715895f7-1143-47cd-b691-efc2904d976a",
   "metadata": {},
   "outputs": [],
   "source": [
    "pd.set_option('display.max_columns', None)"
   ]
  },
  {
   "cell_type": "code",
   "execution_count": 3,
   "id": "796aa63e-1ead-4202-aa93-f8b11626db0f",
   "metadata": {},
   "outputs": [],
   "source": [
    "def read_config(config_path: str):\n",
    "    with open(config_path, \"r\") as file:\n",
    "        yaml_content = yaml.safe_load(file)\n",
    "    return yaml_content"
   ]
  },
  {
   "cell_type": "code",
   "execution_count": 4,
   "id": "5101435f-dc17-457a-ad11-5d8559e8e732",
   "metadata": {},
   "outputs": [],
   "source": [
    "parameters_path = \"./config/download_parameters.yaml\"\n",
    "scraper_path = \"./config/scraper.yaml\""
   ]
  },
  {
   "cell_type": "code",
   "execution_count": 5,
   "id": "df6aa70e-7f82-4ee2-b21e-c6de2100cc61",
   "metadata": {},
   "outputs": [],
   "source": [
    "scraper_config = read_config(scraper_path)"
   ]
  },
  {
   "cell_type": "code",
   "execution_count": 6,
   "id": "0c588858-f753-4847-9293-4ca29c5f54e4",
   "metadata": {},
   "outputs": [],
   "source": [
    "url = 'https://www.otodom.pl/pl/oferta/nowolipki-3-pokoje-63-2m2-ID4oITS'\n",
    "# url = 'https://www.otodom.pl/pl/oferta/2-pokojowe-mieszkanie-54m2-2-balkony-ID4nOyG'"
   ]
  },
  {
   "cell_type": "code",
   "execution_count": 7,
   "id": "e4d11d6e-3926-4cf1-ad92-bd51aa3d3b5c",
   "metadata": {},
   "outputs": [],
   "source": [
    "# one_add_page = f'https://www.otodom.pl{one_url}'\n",
    "one_add_page = url\n",
    "page_one_add = requests.get(one_add_page, timeout=2)\n",
    "soup_one_add = BeautifulSoup(page_one_add.content, 'html.parser')\n",
    "soup_one_add.find_all(\"div\", {\"class\": \"css-m97llu e16xl7020\"})\n",
    "json_data = json.loads(soup_one_add.find('script', type='application/json').text)\n",
    "json_data = json_data['props']['pageProps']"
   ]
  },
  {
   "cell_type": "code",
   "execution_count": 11,
   "id": "ec63801f-9ac7-47c0-a147-458ae84582f8",
   "metadata": {},
   "outputs": [],
   "source": [
    "def extract_ad_main_char(json_data: dict, scraper_config: dict):\n",
    "    paresed_gen = {}\n",
    "    for c in scraper_config['general_ad_attr']:\n",
    "        ads_gen = {c: json_data.get(c, {})}\n",
    "        paresed_gen.update(ads_gen)\n",
    "    return paresed_gen\n",
    "\n",
    "def extract_ad_details(json_data: dict, scraper_config: dict):\n",
    "    parsed_details = {}\n",
    "    add_details_json = json_data.get(\"ad\", {})\n",
    "    for c in scraper_config['ad_attr']:\n",
    "        ad_details = {c: add_details_json.get(c, {})}\n",
    "        parsed_details.update(ad_details)\n",
    "    return parsed_details\n",
    "\n",
    "def extract_target_details(json_data: dict, scraper_config: dict):\n",
    "    parsed_targets = {}\n",
    "    add_target_json = json_data.get(\"ad\", {}).get(\"target\", {})\n",
    "    for c in scraper_config['ad_targets_attr']:\n",
    "        ad_targets = {c: add_target_json.get(c, {})}\n",
    "        parsed_targets.update(ad_targets)\n",
    "    return parsed_targets\n",
    "\n",
    "def extract_ad_geo(json_data: dict, scraper_config: dict):\n",
    "    parsed_geo = {}\n",
    "    add_geo_json = json_data.get(\"ad\", {}).get(\"location\", {}).get('coordinates', {})\n",
    "    for c in scraper_config['geo_attr']:\n",
    "        ad_geo = {c: add_geo_json.get(c, {})}\n",
    "        parsed_geo.update(ad_geo)\n",
    "    return parsed_geo\n",
    "\n",
    "def extract_ad_address(json_data: dict, scraper_config: dict):\n",
    "    address_parsed = {}\n",
    "    ad_address_json = json_data.get(\"ad\", {}).get(\"location\", {}).get('address', {})\n",
    "    for c in scraper_config['address_attr']:        \n",
    "        ad_address = {\n",
    "            f'{c}_id': ad_address_json.get(c, {}).get('id', {}),\n",
    "            f'{c}_name': ad_address_json.get(c, {}).get('name', {}),\n",
    "        }\n",
    "        address_parsed.update(ad_address)\n",
    "    return address_parsed\n",
    "\n",
    "def full_ad_details(json_data: dict, scraper_config: dict):\n",
    "    full_data = {}\n",
    "    full_data.update(extract_ad_main_char(json_data, scraper_config))\n",
    "    full_data.update(extract_ad_details(json_data, scraper_config))\n",
    "    full_data.update(extract_target_details(json_data, scraper_config))\n",
    "    full_data.update(extract_ad_geo(json_data, scraper_config))\n",
    "    full_data.update(extract_ad_address(json_data, scraper_config))\n",
    "    return full_data"
   ]
  },
  {
   "cell_type": "code",
   "execution_count": 9,
   "id": "578af295-b9f3-468a-b62d-e971de360f46",
   "metadata": {},
   "outputs": [
    {
     "data": {
      "text/plain": [
       "{'MarketType': 'secondary',\n",
       " 'Area': '63.26',\n",
       " 'AreaRange': [],\n",
       " 'Build_year': '1951',\n",
       " 'Building_floors_num': '4',\n",
       " 'Country': 'Polska',\n",
       " 'City': 'warszawa',\n",
       " 'City_id': '26',\n",
       " 'Construction_status': ['to_renovation'],\n",
       " 'Extras_types': ['balcony', 'basement', 'separate_kitchen'],\n",
       " 'Floor_no': ['floor_1'],\n",
       " 'ProperType': 'mieszkanie',\n",
       " 'Province': 'mazowieckie',\n",
       " 'Rooms_num': ['3'],\n",
       " 'Security_types': ['entryphone'],\n",
       " 'Price': 1055555,\n",
       " 'PriceRange': ['1000001-3000000'],\n",
       " 'Price_per_m': 16686,\n",
       " 'hidePrice': '0'}"
      ]
     },
     "execution_count": 9,
     "metadata": {},
     "output_type": "execute_result"
    }
   ],
   "source": [
    "extract_target_details(json_data = json_data, scraper_config = scraper_config)"
   ]
  },
  {
   "cell_type": "code",
   "execution_count": 12,
   "id": "4c4728d4-5b42-4969-b3df-202dde16cec5",
   "metadata": {},
   "outputs": [
    {
     "data": {
      "text/plain": [
       "{'lang': 'pl',\n",
       " 'id': 64997816,\n",
       " 'relativeUrl': '/pl/oferta/nowolipki-3-pokoje-63-2m2-ID4oITS',\n",
       " 'publicId': '4oITS',\n",
       " 'market': 'SECONDARY',\n",
       " 'advertiserType': 'private',\n",
       " 'title': 'Nowolipki, 3 pokoje, 63,2m2',\n",
       " 'description': '<p>Mieszkanie 3 pokojowe, o powierzchni 63,26m2 w bardzo dobrej lokalizacji na ul. Nowolipki.<br/> Mieszkanie znajduje się na pierwszym piętrze w budynku czteropiętrowym z cegły z lat 50siątych.<br/> W jego skład wchodzą 3 samodzielne pokoje (19m2,17m2 i 12m2), kuchnia z oknem, łazienka, WC, przedpokój.<br/> Mieszkanie dwustronne, okna od kuchni i małego pokoju wychodzą na ciche podwórko, a pozostałe dwa pokoje z balkonem na cichą ulicę.<br/> Wc, łazienka i korytarz są po remoncie, okna wymienione.<br/> Pozostałe pokoje do remontu.<br/> Do lokalu przynależy piwnica, możliwość parkowania na podwórzu przeznaczone tylko dla mieszkańców.<br/> W najbliższej przyszłości będzie odnowiona elewacja budynku.<br/> Mieszkanie idealne dla rodziny, ale również jako inwestycja pod wynajem lub z przeznaczeniem na kancelarię lub inną działalność gospodarczą.<br/> <br/> Zapraszam do kontaktu</p>\\r\\n<p><br/>!!!!!!!!!!!!!&lt;&lt;&lt;&lt;&lt;&lt;&lt;&lt;&lt;UWAGA PROSZĘ DZWONIĆ POD PONIŻSZE NUMERY&gt;&gt;&gt;&gt;&gt;&gt;&gt;&gt;&gt;&gt;&gt;&gt;&gt;&gt;!!!!!!!!!!!!!!</p>\\r\\n<p><br/> Grażyna-501-619-158</p>\\r\\n<p>Roman 501-646-261</p>',\n",
       " 'url': 'https://www.otodom.pl/pl/oferta/nowolipki-3-pokoje-63-2m2-ID4oITS',\n",
       " 'slug': 'nowolipki-3-pokoje-63-2m2-ID4oITS',\n",
       " 'createdAt': '2024-01-16T19:33:23+01:00',\n",
       " 'modifiedAt': '2024-01-17T10:38:49+01:00',\n",
       " 'features': ['domofon / wideofon', 'balkon', 'piwnica', 'oddzielna kuchnia'],\n",
       " 'MarketType': 'secondary',\n",
       " 'Area': '63.26',\n",
       " 'AreaRange': [],\n",
       " 'Build_year': '1951',\n",
       " 'Building_floors_num': '4',\n",
       " 'Country': 'Polska',\n",
       " 'City': 'warszawa',\n",
       " 'City_id': '26',\n",
       " 'Construction_status': ['to_renovation'],\n",
       " 'Extras_types': ['balcony', 'basement', 'separate_kitchen'],\n",
       " 'Floor_no': ['floor_1'],\n",
       " 'ProperType': 'mieszkanie',\n",
       " 'Province': 'mazowieckie',\n",
       " 'Rooms_num': ['3'],\n",
       " 'Security_types': ['entryphone'],\n",
       " 'Price': 1055555,\n",
       " 'PriceRange': ['1000001-3000000'],\n",
       " 'Price_per_m': 16686,\n",
       " 'hidePrice': '0',\n",
       " 'latitude': 52.24261197870439,\n",
       " 'longitude': 20.98425686767579,\n",
       " 'street_id': '12941',\n",
       " 'street_name': 'ul. Nowolipki',\n",
       " 'district_id': '961',\n",
       " 'district_name': 'Muranów',\n",
       " 'city_id': '26',\n",
       " 'city_name': 'Warszawa',\n",
       " 'province_id': '7',\n",
       " 'province_name': 'mazowieckie'}"
      ]
     },
     "execution_count": 12,
     "metadata": {},
     "output_type": "execute_result"
    }
   ],
   "source": [
    "full_ad_details(json_data = json_data, scraper_config = scraper_config)"
   ]
  }
 ],
 "metadata": {
  "kernelspec": {
   "display_name": "politechnika",
   "language": "python",
   "name": "politechnika"
  },
  "language_info": {
   "codemirror_mode": {
    "name": "ipython",
    "version": 3
   },
   "file_extension": ".py",
   "mimetype": "text/x-python",
   "name": "python",
   "nbconvert_exporter": "python",
   "pygments_lexer": "ipython3",
   "version": "3.9.13"
  }
 },
 "nbformat": 4,
 "nbformat_minor": 5
}
