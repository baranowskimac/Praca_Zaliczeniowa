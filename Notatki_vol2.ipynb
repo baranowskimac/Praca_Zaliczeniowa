{
 "cells": [
  {
   "cell_type": "code",
   "execution_count": null,
   "id": "c32c1554-a4a1-484b-ae5a-3406856a6e82",
   "metadata": {},
   "outputs": [],
   "source": [
    "from bs4 import BeautifulSoup\n",
    "from dataclasses import dataclass, asdict\n",
    "from typing import List\n",
    "import yaml\n",
    "import requests\n",
    "import json\n",
    "import pandas as pd"
   ]
  },
  {
   "cell_type": "code",
   "execution_count": null,
   "id": "715895f7-1143-47cd-b691-efc2904d976a",
   "metadata": {},
   "outputs": [],
   "source": [
    "pd.set_option('display.max_columns', None)"
   ]
  },
  {
   "cell_type": "code",
   "execution_count": null,
   "id": "796aa63e-1ead-4202-aa93-f8b11626db0f",
   "metadata": {},
   "outputs": [],
   "source": [
    "def read_config(config_path: str):\n",
    "    with open(config_path, \"r\") as file:\n",
    "        yaml_content = yaml.safe_load(file)\n",
    "    return yaml_content"
   ]
  },
  {
   "cell_type": "code",
   "execution_count": null,
   "id": "5101435f-dc17-457a-ad11-5d8559e8e732",
   "metadata": {},
   "outputs": [],
   "source": [
    "parameters_path = \"./config/query_params.yaml\"\n",
    "scraper_path = \"./config/scraper.yaml\""
   ]
  },
  {
   "cell_type": "code",
   "execution_count": null,
   "id": "df6aa70e-7f82-4ee2-b21e-c6de2100cc61",
   "metadata": {},
   "outputs": [],
   "source": [
    "scraper_config = read_config(parameters_path)"
   ]
  },
  {
   "cell_type": "code",
   "execution_count": null,
   "id": "7d543552-abf3-4bae-a6f6-136bbfbd8778",
   "metadata": {},
   "outputs": [],
   "source": [
    "scraper_config"
   ]
  },
  {
   "cell_type": "code",
   "execution_count": null,
   "id": "aa232bab-c7cc-440f-aef2-97f65eb108a8",
   "metadata": {},
   "outputs": [],
   "source": [
    "scraper_config['price_min']"
   ]
  },
  {
   "cell_type": "code",
   "execution_count": null,
   "id": "0c588858-f753-4847-9293-4ca29c5f54e4",
   "metadata": {},
   "outputs": [],
   "source": [
    "url = 'https://www.otodom.pl/pl/oferta/nowolipki-3-pokoje-63-2m2-ID4oITS'\n",
    "# url = 'https://www.otodom.pl/pl/oferta/2-pokojowe-mieszkanie-54m2-2-balkony-ID4nOyG'"
   ]
  },
  {
   "cell_type": "code",
   "execution_count": null,
   "id": "e4d11d6e-3926-4cf1-ad92-bd51aa3d3b5c",
   "metadata": {},
   "outputs": [],
   "source": [
    "# one_add_page = f'https://www.otodom.pl{one_url}'\n",
    "one_add_page = url\n",
    "page_one_add = requests.get(one_add_page, timeout=2)\n",
    "soup_one_add = BeautifulSoup(page_one_add.content, 'html.parser')\n",
    "soup_one_add.find_all(\"div\", {\"class\": \"css-m97llu e16xl7020\"})\n",
    "json_data = json.loads(soup_one_add.find('script', type='application/json').text)\n",
    "json_data = json_data['props']['pageProps']"
   ]
  },
  {
   "cell_type": "code",
   "execution_count": null,
   "id": "ec63801f-9ac7-47c0-a147-458ae84582f8",
   "metadata": {},
   "outputs": [],
   "source": [
    "def extract_ad_main_char(json_data: dict, scraper_config: dict):\n",
    "    paresed_gen = {}\n",
    "    for c in scraper_config['general_ad_attr']:\n",
    "        ads_gen = {c: json_data.get(c, {})}\n",
    "        paresed_gen.update(ads_gen)\n",
    "    return paresed_gen\n",
    "\n",
    "def extract_ad_details(json_data: dict, scraper_config: dict):\n",
    "    parsed_details = {}\n",
    "    add_details_json = json_data.get(\"ad\", {})\n",
    "    for c in scraper_config['ad_attr']:\n",
    "        ad_details = {c: add_details_json.get(c, {})}\n",
    "        parsed_details.update(ad_details)\n",
    "    return parsed_details\n",
    "\n",
    "def extract_target_details(json_data: dict, scraper_config: dict):\n",
    "    parsed_targets = {}\n",
    "    add_target_json = json_data.get(\"ad\", {}).get(\"target\", {})\n",
    "    for c in scraper_config['ad_targets_attr']:\n",
    "        ad_targets = {c: add_target_json.get(c, {})}\n",
    "        parsed_targets.update(ad_targets)\n",
    "    return parsed_targets\n",
    "\n",
    "def extract_ad_geo(json_data: dict, scraper_config: dict):\n",
    "    parsed_geo = {}\n",
    "    add_geo_json = json_data.get(\"ad\", {}).get(\"location\", {}).get('coordinates', {})\n",
    "    for c in scraper_config['geo_attr']:\n",
    "        ad_geo = {c: add_geo_json.get(c, {})}\n",
    "        parsed_geo.update(ad_geo)\n",
    "    return parsed_geo\n",
    "\n",
    "def extract_ad_address(json_data: dict, scraper_config: dict):\n",
    "    address_parsed = {}\n",
    "    ad_address_json = json_data.get(\"ad\", {}).get(\"location\", {}).get('address', {})\n",
    "    for c in scraper_config['address_attr']:        \n",
    "        ad_address = {\n",
    "            f'{c}_id': ad_address_json.get(c, {}).get('id', {}),\n",
    "            f'{c}_name': ad_address_json.get(c, {}).get('name', {}),\n",
    "        }\n",
    "        address_parsed.update(ad_address)\n",
    "    return address_parsed\n",
    "\n",
    "def full_ad_details(json_data: dict, scraper_config: dict):\n",
    "    full_data = {}\n",
    "    full_data.update(extract_ad_main_char(json_data, scraper_config))\n",
    "    full_data.update(extract_ad_details(json_data, scraper_config))\n",
    "    full_data.update(extract_target_details(json_data, scraper_config))\n",
    "    full_data.update(extract_ad_geo(json_data, scraper_config))\n",
    "    full_data.update(extract_ad_address(json_data, scraper_config))\n",
    "    return full_data"
   ]
  },
  {
   "cell_type": "code",
   "execution_count": null,
   "id": "578af295-b9f3-468a-b62d-e971de360f46",
   "metadata": {},
   "outputs": [],
   "source": [
    "extract_target_details(json_data = json_data, scraper_config = scraper_config)"
   ]
  },
  {
   "cell_type": "code",
   "execution_count": null,
   "id": "4c4728d4-5b42-4969-b3df-202dde16cec5",
   "metadata": {},
   "outputs": [],
   "source": [
    "full_ad_details(json_data = json_data, scraper_config = scraper_config)"
   ]
  },
  {
   "cell_type": "code",
   "execution_count": null,
   "id": "702aed1b-c2dd-42fd-a0ff-5b9124b5edf6",
   "metadata": {},
   "outputs": [],
   "source": [
    "import os"
   ]
  },
  {
   "cell_type": "code",
   "execution_count": null,
   "id": "e501b872-017d-4e8d-b9ee-3f76f0197542",
   "metadata": {},
   "outputs": [],
   "source": [
    "os.path.isdir('new_folder')"
   ]
  },
  {
   "cell_type": "code",
   "execution_count": null,
   "id": "1139905a-059c-487f-b3a7-af86fca87b4d",
   "metadata": {},
   "outputs": [],
   "source": [
    "os.path.exists(os.path.join(os.getcwd(), 'batch'))"
   ]
  },
  {
   "cell_type": "code",
   "execution_count": 1,
   "id": "46782c22-8d11-464b-8749-a7e2cf85f66b",
   "metadata": {},
   "outputs": [],
   "source": [
    "from src.save_OtoData import create_save_data_path, save_file"
   ]
  },
  {
   "cell_type": "code",
   "execution_count": 3,
   "id": "0ab27813-f1c5-4a6f-b19f-0904d70bca9d",
   "metadata": {},
   "outputs": [
    {
     "data": {
      "text/plain": [
       "'C:\\\\Users\\\\Maciej Baranowski\\\\Mój dysk\\\\Colab Notebooks\\\\Praca_Zaliczeniowa\\\\full_df/oto_dom_full_20240126_170933.pkl'"
      ]
     },
     "execution_count": 3,
     "metadata": {},
     "output_type": "execute_result"
    }
   ],
   "source": [
    "create_save_data_path(False)"
   ]
  }
 ],
 "metadata": {
  "kernelspec": {
   "display_name": "politechnika",
   "language": "python",
   "name": "politechnika"
  },
  "language_info": {
   "codemirror_mode": {
    "name": "ipython",
    "version": 3
   },
   "file_extension": ".py",
   "mimetype": "text/x-python",
   "name": "python",
   "nbconvert_exporter": "python",
   "pygments_lexer": "ipython3",
   "version": "3.9.13"
  }
 },
 "nbformat": 4,
 "nbformat_minor": 5
}
